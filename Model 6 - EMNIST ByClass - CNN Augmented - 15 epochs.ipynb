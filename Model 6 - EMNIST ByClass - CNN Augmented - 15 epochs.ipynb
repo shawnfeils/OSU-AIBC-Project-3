{
 "cells": [
  {
   "cell_type": "code",
   "execution_count": 1,
   "metadata": {},
   "outputs": [],
   "source": [
    "\"\"\"\n",
    "Collect Data: Capture and label images of our handwriting.\n",
    "    [ ] Chelsey\n",
    "    [ ] Shawn\n",
    "    [X] Starter data set (MNIST)\n",
    "    [X] Starter data set (EMNIST ByClass)\n",
    "\n",
    "Preprocess Data: Resize, normalize, and encode the images and labels.\n",
    "\n",
    "Build a CNN Model: Use Keras to define a CNN suitable for image classification.\n",
    "Train the Model: Fit the model on your handwriting dataset.\n",
    "Evaluate and Predict: Assess model accuracy and use it to predict new handwriting samples.\n",
    "\"\"\"\n",
    "\n",
    "import cv2\n",
    "import numpy as np\n",
    "import os\n",
    "from sklearn.preprocessing import LabelBinarizer\n",
    "from sklearn.model_selection import train_test_split\n",
    "import tensorflow as tf\n",
    "from tensorflow.keras import layers, models\n",
    "import tensorflow_datasets as tfds\n",
    "import pickle\n",
    "from PIL import Image, ImageOps\n",
    "import matplotlib.pyplot as plt\n",
    "import seaborn as sns\n",
    "from sklearn.metrics import confusion_matrix\n"
   ]
  },
  {
   "cell_type": "code",
   "execution_count": 2,
   "metadata": {},
   "outputs": [
    {
     "data": {
      "image/png": "[encoded data removed]",
      "text/plain": [
       "<Figure size 1000x1000 with 9 Axes>"
      ]
     },
     "metadata": {},
     "output_type": "display_data"
    },
    {
     "name": "stdout",
     "output_type": "stream",
     "text": [
      "Epoch 1/15\n"
     ]
    },
    {
     "name": "stderr",
     "output_type": "stream",
     "text": [
      "c:\\Users\\shawn\\anaconda3\\envs\\dev\\lib\\site-packages\\keras\\src\\layers\\convolutional\\base_conv.py:107: UserWarning: Do not pass an `input_shape`/`input_dim` argument to a layer. When using Sequential models, prefer using an `Input(shape)` object as the first layer in the model instead.\n",
      "  super().__init__(activity_regularizer=activity_regularizer, **kwargs)\n"
     ]
    },
    {
     "name": "stdout",
     "output_type": "stream",
     "text": [
      "\u001b[1m21811/21811\u001b[0m \u001b[32m━━━━━━━━━━━━━━━━━━━━\u001b[0m\u001b[37m\u001b[0m \u001b[1m206s\u001b[0m 9ms/step - accuracy: 0.6652 - loss: 1.1457 - val_accuracy: 0.8231 - val_loss: 0.4950\n",
      "Epoch 2/15\n",
      "\u001b[1m21811/21811\u001b[0m \u001b[32m━━━━━━━━━━━━━━━━━━━━\u001b[0m\u001b[37m\u001b[0m \u001b[1m207s\u001b[0m 9ms/step - accuracy: 0.7940 - loss: 0.6255 - val_accuracy: 0.8289 - val_loss: 0.4815\n",
      "Epoch 3/15\n",
      "\u001b[1m21811/21811\u001b[0m \u001b[32m━━━━━━━━━━━━━━━━━━━━\u001b[0m\u001b[37m\u001b[0m \u001b[1m200s\u001b[0m 9ms/step - accuracy: 0.8044 - loss: 0.5895 - val_accuracy: 0.8310 - val_loss: 0.4747\n",
      "Epoch 4/15\n",
      "\u001b[1m21811/21811\u001b[0m \u001b[32m━━━━━━━━━━━━━━━━━━━━\u001b[0m\u001b[37m\u001b[0m \u001b[1m200s\u001b[0m 9ms/step - accuracy: 0.8089 - loss: 0.5739 - val_accuracy: 0.8272 - val_loss: 0.4884\n",
      "Epoch 5/15\n",
      "\u001b[1m21811/21811\u001b[0m \u001b[32m━━━━━━━━━━━━━━━━━━━━\u001b[0m\u001b[37m\u001b[0m \u001b[1m213s\u001b[0m 10ms/step - accuracy: 0.8108 - loss: 0.5650 - val_accuracy: 0.8300 - val_loss: 0.4761\n",
      "Epoch 6/15\n",
      "\u001b[1m21811/21811\u001b[0m \u001b[32m━━━━━━━━━━━━━━━━━━━━\u001b[0m\u001b[37m\u001b[0m \u001b[1m229s\u001b[0m 10ms/step - accuracy: 0.8122 - loss: 0.5632 - val_accuracy: 0.8357 - val_loss: 0.4630\n",
      "Epoch 7/15\n",
      "\u001b[1m21811/21811\u001b[0m \u001b[32m━━━━━━━━━━━━━━━━━━━━\u001b[0m\u001b[37m\u001b[0m \u001b[1m209s\u001b[0m 10ms/step - accuracy: 0.8132 - loss: 0.5625 - val_accuracy: 0.8321 - val_loss: 0.4698\n",
      "Epoch 8/15\n",
      "\u001b[1m21811/21811\u001b[0m \u001b[32m━━━━━━━━━━━━━━━━━━━━\u001b[0m\u001b[37m\u001b[0m \u001b[1m225s\u001b[0m 10ms/step - accuracy: 0.8132 - loss: 0.5618 - val_accuracy: 0.8346 - val_loss: 0.4657\n",
      "Epoch 9/15\n",
      "\u001b[1m21811/21811\u001b[0m \u001b[32m━━━━━━━━━━━━━━━━━━━━\u001b[0m\u001b[37m\u001b[0m \u001b[1m197s\u001b[0m 9ms/step - accuracy: 0.8134 - loss: 0.5638 - val_accuracy: 0.8312 - val_loss: 0.4727\n",
      "Epoch 10/15\n",
      "\u001b[1m21811/21811\u001b[0m \u001b[32m━━━━━━━━━━━━━━━━━━━━\u001b[0m\u001b[37m\u001b[0m \u001b[1m200s\u001b[0m 9ms/step - accuracy: 0.8135 - loss: 0.5632 - val_accuracy: 0.8341 - val_loss: 0.4733\n",
      "Epoch 11/15\n",
      "\u001b[1m21811/21811\u001b[0m \u001b[32m━━━━━━━━━━━━━━━━━━━━\u001b[0m\u001b[37m\u001b[0m \u001b[1m197s\u001b[0m 9ms/step - accuracy: 0.8130 - loss: 0.5654 - val_accuracy: 0.8320 - val_loss: 0.4854\n",
      "Epoch 12/15\n",
      "\u001b[1m21811/21811\u001b[0m \u001b[32m━━━━━━━━━━━━━━━━━━━━\u001b[0m\u001b[37m\u001b[0m \u001b[1m200s\u001b[0m 9ms/step - accuracy: 0.8133 - loss: 0.5663 - val_accuracy: 0.8361 - val_loss: 0.4685\n",
      "Epoch 13/15\n",
      "\u001b[1m21811/21811\u001b[0m \u001b[32m━━━━━━━━━━━━━━━━━━━━\u001b[0m\u001b[37m\u001b[0m \u001b[1m196s\u001b[0m 9ms/step - accuracy: 0.8115 - loss: 0.5706 - val_accuracy: 0.8363 - val_loss: 0.4665\n",
      "Epoch 14/15\n",
      "\u001b[1m21811/21811\u001b[0m \u001b[32m━━━━━━━━━━━━━━━━━━━━\u001b[0m\u001b[37m\u001b[0m \u001b[1m198s\u001b[0m 9ms/step - accuracy: 0.8116 - loss: 0.5700 - val_accuracy: 0.8370 - val_loss: 0.4683\n",
      "Epoch 15/15\n",
      "\u001b[1m21811/21811\u001b[0m \u001b[32m━━━━━━━━━━━━━━━━━━━━\u001b[0m\u001b[37m\u001b[0m \u001b[1m198s\u001b[0m 9ms/step - accuracy: 0.8112 - loss: 0.5725 - val_accuracy: 0.8362 - val_loss: 0.4708\n",
      "\u001b[1m3636/3636\u001b[0m \u001b[32m━━━━━━━━━━━━━━━━━━━━\u001b[0m\u001b[37m\u001b[0m \u001b[1m14s\u001b[0m 4ms/step - accuracy: 0.8359 - loss: 0.4675\n",
      "Test Accuracy: 0.84\n"
     ]
    }
   ],
   "source": [
    "# Load the EMNIST Letters dataset\n",
    "(train_ds, test_ds), ds_info = tfds.load(\n",
    "    'emnist/byclass',\n",
    "    split=['train', 'test'],\n",
    "    shuffle_files=True,\n",
    "    as_supervised=True,\n",
    "    with_info=True\n",
    ")\n",
    "\n",
    "# Function to visualize some samples\n",
    "def plot_samples(dataset, num_samples=9):\n",
    "    plt.figure(figsize=(10, 10))\n",
    "    for i, (image, label) in enumerate(dataset.take(num_samples)):\n",
    "        plt.subplot(3, 3, i + 1)\n",
    "        plt.imshow(image.numpy().squeeze(), cmap=\"gray\")\n",
    "        plt.title(f\"Label: {label.numpy()}\")\n",
    "        plt.axis('off')\n",
    "    plt.show()\n",
    "\n",
    "# Plot some samples from the training dataset\n",
    "plot_samples(train_ds)\n",
    "\n",
    "# Preprocessing function to normalize the images\n",
    "def preprocess(image, label):\n",
    "    image = tf.cast(image, tf.float32) / 255.0  # Normalize to [0, 1]\n",
    "    return image, label\n",
    "\n",
    "def augment(image, label):\n",
    "    # Apply random transformations to the image\n",
    "    image = tf.image.random_flip_left_right(image)  # Random horizontal flip\n",
    "    image = tf.image.random_brightness(image, max_delta=0.1)  # Random brightness adjustment\n",
    "    image = tf.image.random_contrast(image, lower=0.8, upper=1.2)  # Random contrast adjustment\n",
    "    image = tf.image.resize_with_crop_or_pad(image, 30, 30)  # Add padding for more room to rotate\n",
    "    image = tf.image.random_crop(image, size=[28, 28, 1])  # Crop back to 28x28\n",
    "    \n",
    "    return image, label\n",
    "\n",
    "# Prepare datasets with preprocessing and augmentation\n",
    "train_ds = train_ds.map(preprocess).map(augment).batch(32).prefetch(tf.data.AUTOTUNE)\n",
    "test_ds = test_ds.map(preprocess).batch(32).prefetch(tf.data.AUTOTUNE)\n",
    "\n",
    "# Build a CNN model\n",
    "model = tf.keras.Sequential([\n",
    "    tf.keras.layers.Conv2D(32, (3, 3), activation='relu', input_shape=(28, 28, 1)),\n",
    "    tf.keras.layers.MaxPooling2D(2, 2),\n",
    "    tf.keras.layers.Conv2D(64, (3, 3), activation='relu'),\n",
    "    tf.keras.layers.MaxPooling2D(2, 2),\n",
    "    tf.keras.layers.Conv2D(128, (3, 3), activation='relu'),\n",
    "    tf.keras.layers.Flatten(),\n",
    "    tf.keras.layers.Dense(128, activation='relu'),\n",
    "    tf.keras.layers.Dropout(0.5),\n",
    "    tf.keras.layers.Dense(62, activation='softmax')  # For 62 classes\n",
    "])\n",
    "\n",
    "# Compile the model\n",
    "model.compile(optimizer='adam',\n",
    "              loss='sparse_categorical_crossentropy',\n",
    "              metrics=['accuracy'])\n",
    "\n",
    "# Train the model\n",
    "model.fit(train_ds, epochs=15, validation_data=test_ds)\n",
    "\n",
    "# Evaluate the model\n",
    "test_loss, test_accuracy = model.evaluate(test_ds)\n",
    "print(f\"Test Accuracy: {test_accuracy:.2f}\")"
   ]
  },
  {
   "cell_type": "code",
   "execution_count": 3,
   "metadata": {},
   "outputs": [],
   "source": [
    "# # Generate predictions for the test dataset\n",
    "# y_true = []\n",
    "# y_pred = []\n",
    "\n",
    "# for images, labels in test_ds:\n",
    "#     predictions = model.predict(images)\n",
    "#     y_true.extend(labels.numpy())\n",
    "#     y_pred.extend(np.argmax(predictions, axis=1))\n",
    "\n",
    "# # Plot confusion matrix\n",
    "# cm = confusion_matrix(y_true, y_pred)\n",
    "# plt.figure(figsize=(10, 8))\n",
    "# sns.heatmap(cm, annot=True, fmt=\"d\", cmap=\"Blues\")\n",
    "# plt.xlabel('Predicted')\n",
    "# plt.ylabel('Actual')\n",
    "# plt.show()"
   ]
  },
  {
   "cell_type": "code",
   "execution_count": 6,
   "metadata": {},
   "outputs": [
    {
     "data": {
      "image/png": "[encoded data removed]",
      "text/plain": [
       "<Figure size 640x480 with 1 Axes>"
      ]
     },
     "metadata": {},
     "output_type": "display_data"
    },
    {
     "name": "stdout",
     "output_type": "stream",
     "text": [
      "\u001b[1m1/1\u001b[0m \u001b[32m━━━━━━━━━━━━━━━━━━━━\u001b[0m\u001b[37m\u001b[0m \u001b[1m0s\u001b[0m 31ms/step\n",
      "Predicted Character: a\n",
      "Prediction confidence: 0.29\n"
     ]
    },
    {
     "data": {
      "image/png": "[encoded data removed]",
      "text/plain": [
       "<Figure size 640x480 with 1 Axes>"
      ]
     },
     "metadata": {},
     "output_type": "display_data"
    }
   ],
   "source": [
    "# source image\n",
    "image_path = \"Resources/Test Images/number 8.png\"\n",
    "\n",
    "# Define the class mapping for EMNIST ByClass\n",
    "emnist_byclass_labels = [\n",
    "    '0', '1', '2', '3', '4', '5', '6', '7', '8', '9',   # Digits 0-9\n",
    "    'A', 'B', 'C', 'D', 'E', 'F', 'G', 'H', 'I', 'J', 'K', 'L', 'M', 'N', 'O', 'P', 'Q', 'R', 'S', 'T', 'U', 'V', 'W', 'X', 'Y', 'Z',  # Uppercase A-Z\n",
    "    'a', 'b', 'c', 'd', 'e', 'f', 'g', 'h', 'i', 'j', 'k', 'l', 'm', 'n', 'o', 'p', 'q', 'r', 's', 't', 'u', 'v', 'w', 'x', 'y', 'z'   # Lowercase a-z\n",
    "]\n",
    "\n",
    "# Define the image preprocessing function (similar to how it was done for the dataset)\n",
    "def preprocess_image(image_path):\n",
    "    # Load the image using PIL\n",
    "    img = Image.open(image_path).convert('L')  # Convert to grayscale if needed\n",
    "    img = ImageOps.invert(img) # Invert the image colors if the background is white and digits are black \n",
    "    img = img.resize((28, 28))  # Resize to 28x28 pixels (same as EMNIST)\n",
    "    \n",
    "    plt.imshow(img, cmap='gray') \n",
    "    plt.show()\n",
    "\n",
    "    # Convert the image to a NumPy array and normalize it\n",
    "    img_array = np.array(img) / 255.0  # Normalize pixel values to [0, 1]\n",
    "    img_array = img_array.reshape(1, 28, 28, 1)  # Reshape to (1, 28, 28, 1) for batch dimension\n",
    "    \n",
    "    return img_array\n",
    "\n",
    "# Function to make a prediction on a single image\n",
    "def predict_image(model, image_path):\n",
    "    processed_image = preprocess_image(image_path)\n",
    "    \n",
    "    # Get model prediction (output probabilities for each class)\n",
    "    predictions = model.predict(processed_image)\n",
    "    \n",
    "    # Find the class with the highest probability\n",
    "    predicted_class = np.argmax(predictions, axis=1)[0]\n",
    "    \n",
    "    return predicted_class, predictions\n",
    "\n",
    "# Function to decode predicted class index to character\n",
    "def decode_prediction(predicted_class):\n",
    "    return emnist_byclass_labels[predicted_class]\n",
    "\n",
    "# Example usage:\n",
    "predicted_class, predictions = predict_image(model, image_path)\n",
    "predicted_character = decode_prediction(predicted_class)\n",
    "\n",
    "print(f\"Predicted Character: {predicted_character}\")\n",
    "print(f\"Prediction confidence: {predictions[0][predicted_class]:.2f}\")\n",
    "\n",
    "# Visualize the image for confirmation\n",
    "plt.imshow(np.array(Image.open(image_path)), cmap='gray')\n",
    "plt.title(f\"Predicted Character: {predicted_character}\")\n",
    "plt.axis('off')\n",
    "plt.show()"
   ]
  }
 ],
 "metadata": {
  "kernelspec": {
   "display_name": "dev",
   "language": "python",
   "name": "python3"
  },
  "language_info": {
   "codemirror_mode": {
    "name": "ipython",
    "version": 3
   },
   "file_extension": ".py",
   "mimetype": "text/x-python",
   "name": "python",
   "nbconvert_exporter": "python",
   "pygments_lexer": "ipython3",
   "version": "3.10.14"
  }
 },
 "nbformat": 4,
 "nbformat_minor": 2
}
